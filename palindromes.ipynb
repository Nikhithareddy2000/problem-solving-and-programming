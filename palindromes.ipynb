{
 "cells": [
  {
   "cell_type": "markdown",
   "metadata": {},
   "source": [
    "###"
   ]
  },
  {
   "cell_type": "code",
   "execution_count": 15,
   "metadata": {},
   "outputs": [
    {
     "ename": "SyntaxError",
     "evalue": "can't assign to literal (<ipython-input-15-3acc356602b9>, line 2)",
     "output_type": "error",
     "traceback": [
      "\u001b[1;36m  File \u001b[1;32m\"<ipython-input-15-3acc356602b9>\"\u001b[1;36m, line \u001b[1;32m2\u001b[0m\n\u001b[1;33m    11=int(input(\"enter lower limit\"));\u001b[0m\n\u001b[1;37m                                       ^\u001b[0m\n\u001b[1;31mSyntaxError\u001b[0m\u001b[1;31m:\u001b[0m can't assign to literal\n"
     ]
    }
   ],
   "source": [
    "digit=int(input(\"enter a number\"));\n",
    "11=int(input(\"enter lower limit\"));\n",
    "12=int(input(\"enter upper limit\"));\n",
    "\n",
    "cnt=0;\n",
    "\n",
    "while(11!=12):\n",
    "      buffer=11;\n",
    "        while(11!=0):\n",
    "         r=11%10;\n",
    "         if(r==digit):\n",
    "        cnt=cnt+1;\n",
    "            11=buffer;\n",
    "            11=11+1;\n",
    "print(cnt);"
   ]
  },
  {
   "cell_type": "code",
   "execution_count": 8,
   "metadata": {},
   "outputs": [
    {
     "name": "stdout",
     "output_type": "stream",
     "text": [
      "1 2 3 4 5 6 7 8 9 \n",
      "1 2 3 4 5 6 7 8 9 10 11 12 13 14 15 \n"
     ]
    }
   ],
   "source": [
    "def printNNaturalnumbers(n):\n",
    "    cnt=1;\n",
    "    while(cnt<=n):\n",
    "        print(cnt,end=\" \");\n",
    "        cnt=cnt+1;\n",
    "    print()\n",
    "    return\n",
    "printNNaturalnumbers(9);\n",
    "printNNaturalnumbers(15);\n",
    "            "
   ]
  },
  {
   "cell_type": "code",
   "execution_count": null,
   "metadata": {},
   "outputs": [],
   "source": [
    "def printfindFact(n):\n",
    "    fact=1;\n",
    "    while(n!=0):\n",
    "        fact=fact*n;\n",
    "    n=n-1;\n",
    "    return fact;\n",
    "printfindFact(5);\n",
    "printfindFact(10);\n",
    "printfindFact(20);"
   ]
  },
  {
   "cell_type": "code",
   "execution_count": null,
   "metadata": {},
   "outputs": [],
   "source": [
    "def countofPalindromes(n1,n2);\n",
    " cnt=0;\n",
    "    while n1!=n2:\n",
    "    sum=0;\n",
    "    buffer=n1;.\n",
    "    while n1 !=0;\n",
    "    r=n1%10;\n",
    "    sum(sum*10)=r;\n",
    "    n1=n1//10;\n",
    "    if buffer==sum;\n",
    "    cnt=cnt+1;\n",
    "    n1=buffer;\n",
    "    n1=n1+1;\n",
    "    return cnt;\n",
    "\n",
    "    print(countofPalindromes(10,30));"
   ]
  },
  {
   "cell_type": "code",
   "execution_count": null,
   "metadata": {},
   "outputs": [],
   "source": []
  },
  {
   "cell_type": "code",
   "execution_count": null,
   "metadata": {},
   "outputs": [],
   "source": []
  },
  {
   "cell_type": "code",
   "execution_count": null,
   "metadata": {},
   "outputs": [],
   "source": []
  }
 ],
 "metadata": {
  "kernelspec": {
   "display_name": "Python 3",
   "language": "python",
   "name": "python3"
  },
  "language_info": {
   "codemirror_mode": {
    "name": "ipython",
    "version": 3
   },
   "file_extension": ".py",
   "mimetype": "text/x-python",
   "name": "python",
   "nbconvert_exporter": "python",
   "pygments_lexer": "ipython3",
   "version": "3.7.3"
  }
 },
 "nbformat": 4,
 "nbformat_minor": 2
}
